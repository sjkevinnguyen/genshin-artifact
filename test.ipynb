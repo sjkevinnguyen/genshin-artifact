{
 "cells": [
  {
   "cell_type": "code",
   "execution_count": 5,
   "metadata": {},
   "outputs": [
    {
     "name": "stdout",
     "output_type": "stream",
     "text": [
      "══════════════════════════════\n",
      "✦ Goblet (Lv. 0) (exp total: 0)\n",
      "✦ Main: PyroDMG%\n",
      "✦ Substats:\n",
      "  ▪ ATK: 15.56 \n",
      "  ▪ DEF: 20.83 \n",
      "  ▪ HP%: 5.25 \n",
      "══════════════════════════════\n",
      "══════════════════════════════\n",
      "✦ Goblet (Lv. 4) (exp total: 0)\n",
      "✦ Main: PyroDMG%\n",
      "✦ Substats:\n",
      "  ▪ ATK: 15.56 \n",
      "  ▪ DEF: 20.83 \n",
      "  ▪ HP%: 5.25 \n",
      "  ▪ DEF%: 6.56 \n",
      "══════════════════════════════\n",
      "══════════════════════════════\n",
      "✦ Goblet (Lv. 8) (exp total: (44, 725))\n",
      "✦ Main: PyroDMG%\n",
      "✦ Substats:\n",
      "  ▪ ATK: 15.56 \n",
      "  ▪ DEF: 20.83 \n",
      "  ▪ HP%: 11.08 +1\n",
      "  ▪ DEF%: 6.56 \n",
      "══════════════════════════════\n",
      "══════════════════════════════\n",
      "✦ Goblet (Lv. 12) (exp total: (87, 150))\n",
      "✦ Main: PyroDMG%\n",
      "✦ Substats:\n",
      "  ▪ ATK: 15.56 \n",
      "  ▪ DEF: 20.83 \n",
      "  ▪ HP%: 11.08 +1\n",
      "  ▪ DEF%: 13.85 +1\n",
      "══════════════════════════════\n",
      "══════════════════════════════\n",
      "✦ Goblet (Lv. 16) (exp total: (153, 300))\n",
      "✦ Main: PyroDMG%\n",
      "✦ Substats:\n",
      "  ▪ ATK: 15.56 \n",
      "  ▪ DEF: 41.66 +1\n",
      "  ▪ HP%: 11.08 +1\n",
      "  ▪ DEF%: 13.85 +1\n",
      "══════════════════════════════\n",
      "══════════════════════════════\n",
      "✦ Goblet (Lv. 20) (exp total: (270, 475))\n",
      "✦ Main: PyroDMG%\n",
      "✦ Substats:\n",
      "  ▪ ATK: 15.56 \n",
      "  ▪ DEF: 57.86 +2\n",
      "  ▪ HP%: 11.08 +1\n",
      "  ▪ DEF%: 13.85 +1\n",
      "══════════════════════════════\n"
     ]
    }
   ],
   "source": [
    "from Artifact import Artifact, Transmuter\n",
    "import numpy as np\n",
    "a = Artifact(slot='Goblet', main_stat='PyroDMG%')\n",
    "print(a)\n",
    "a.level_up()\n",
    "print(a)\n",
    "a.level_up()\n",
    "print(a)\n",
    "a.level_up()\n",
    "print(a)\n",
    "a.level_up()\n",
    "print(a)\n",
    "a.level_up()\n",
    "print(a)"
   ]
  },
  {
   "cell_type": "code",
   "execution_count": 30,
   "metadata": {},
   "outputs": [
    {
     "name": "stdout",
     "output_type": "stream",
     "text": [
      "yes\n"
     ]
    }
   ],
   "source": [
    "if any(stat in list(a.sub_stats) for stat in ['CRIT Rate%','CRIT DMG%']):\n",
    "    print('yes')"
   ]
  },
  {
   "cell_type": "code",
   "execution_count": 17,
   "metadata": {},
   "outputs": [
    {
     "data": {
      "text/plain": [
       "True"
      ]
     },
     "execution_count": 17,
     "metadata": {},
     "output_type": "execute_result"
    }
   ],
   "source": [
    "len(a.sub_stats) > 3"
   ]
  },
  {
   "cell_type": "code",
   "execution_count": 1,
   "metadata": {},
   "outputs": [],
   "source": [
    "# Necessary Imports\n",
    "from Artifact import Artifact, Transmuter\n",
    "import numpy as np\n",
    "import seaborn as sns\n",
    "import matplotlib.pyplot as plt"
   ]
  },
  {
   "cell_type": "code",
   "execution_count": 52,
   "metadata": {},
   "outputs": [],
   "source": [
    "# Generate normal artifacts\n",
    "sanctifying_cost = {'Feather':1, 'Flower':1, 'Sands':2, 'Circlet':3, 'Goblet':4}\n",
    "main_stats = {'Feather': 'ATK', 'Flower': 'HP', 'Sands':'ATK%', 'Circlet':'CRIT Rate%', 'Goblet':'Pyro DMG%'}\n",
    "crit = {'CRIT Rate%':[2.72, 3.11, 3.50, 3.89], 'CRIT DMG%':[5.44, 6.22, 6.99, 7.77]}\n",
    "simulations = 1000\n",
    "normal_results = {'Feather':[], 'Flower':[], 'Sands':[], 'Circlet':[], 'Goblet':[]}\n",
    "\n",
    "for _ in range(simulations):\n",
    "    for i in list(sanctifying_cost):\n",
    "\n",
    "        # Generate artifacts until a 30 cv artifact has been reached.\n",
    "        # Get the total exp used to get to that 30 cv artifact\n",
    "        total_exp = 0\n",
    "        while True:\n",
    "            crit_rate = np.random.choice(crit['CRIT Rate%'])\n",
    "            crit_dmg = np.random.choice(crit['CRIT DMG%'])\n",
    "            # If circlet, look for 1 crit sub stat as the main stat is crit. You could switch the crit types but it would be the same.\n",
    "            if i == 'Circlet':\n",
    "                sample = Artifact(slot=i, main_stat='CRIT Rate%')\n",
    "                if len(sample.sub_stats) == 3:\n",
    "                    sample.level_up()\n",
    "                if not 'CRIT DMG%' in sample.sub_stats:\n",
    "                    total_exp += sample.exp\n",
    "                    continue\n",
    "                sample.level_up_max()\n",
    "                total_exp += sample.exp\n",
    "                if sample.crit_value() >= 20:\n",
    "                    break    \n",
    "            else:\n",
    "                # Look for 2 crit substats\n",
    "                x = {'CRIT Rate%':crit_rate}\n",
    "                y = {'CRIT DMG%':crit_dmg}\n",
    "                sample = Artifact(slot=i, main_stat=main_stats[i], sub_stats=np.random.choice([x, y]))\n",
    "                if len(sample.sub_stats) == 3:\n",
    "                    sample.level_up()\n",
    "                if not all(stat in list(sample.sub_stats) for stat in ['CRIT Rate%','CRIT DMG%']):\n",
    "                    total_exp += sample.exp\n",
    "                    continue\n",
    "                sample.level_up_max()\n",
    "                total_exp += sample.exp\n",
    "                if sample.crit_value() >= 30:\n",
    "                    break    \n",
    "        normal_results[i].append(total_exp) \n",
    "\n",
    "        "
   ]
  },
  {
   "cell_type": "code",
   "execution_count": 53,
   "metadata": {},
   "outputs": [
    {
     "name": "stdout",
     "output_type": "stream",
     "text": [
      "Mean artifact exp cost for feather:  897342.5\n",
      "Mean artifact exp cost for flower:  922034.7\n",
      "Mean artifact exp cost for sands:  882133.75\n",
      "Mean artifact exp cost for circlet:  1758756.125\n",
      "Mean artifact exp cost for goblet:  897099.15\n"
     ]
    }
   ],
   "source": [
    "print('Mean artifact exp cost for feather: ', np.mean(normal_results['Feather']))\n",
    "print('Mean artifact exp cost for flower: ', np.mean(normal_results['Flower']))\n",
    "print('Mean artifact exp cost for sands: ', np.mean(normal_results['Sands']))\n",
    "print('Mean artifact exp cost for circlet: ', np.mean(normal_results['Circlet']))\n",
    "print('Mean artifact exp cost for goblet: ', np.mean(normal_results['Goblet']))\n"
   ]
  },
  {
   "cell_type": "code",
   "execution_count": 172,
   "metadata": {},
   "outputs": [],
   "source": [
    "# Use transmuter\n",
    "sanctifying_cost = {'Feather':1, 'Flower':1, 'Sands':2, 'Circlet':3, 'Goblet':4}\n",
    "main_stats = {'Feather': 'ATK', 'Flower': 'HP', 'Sands':'ATK%', 'Circlet':'CRIT Rate%', 'Goblet':'Pyro DMG%'}\n",
    "crit = {'CRIT Rate%':[2.72, 3.11, 3.50, 3.89], 'CRIT DMG%':[5.44, 6.22, 6.99, 7.77]}\n",
    "simulations = 1000\n",
    "transmuter_results = {'Feather':[], 'Flower':[], 'Sands':[], 'Circlet':[], 'Goblet':[]}\n",
    "\n",
    "for _ in range(simulations):\n",
    "    for i in list(sanctifying_cost):\n",
    "        total_exp = 0\n",
    "        while True:\n",
    "            total_exp += 16300 * sanctifying_cost[i] * 25\n",
    "            crit_rate = np.random.choice(crit['CRIT Rate%'])\n",
    "            crit_dmg = np.random.choice(crit['CRIT DMG%'])\n",
    "            if i == 'Circlet':\n",
    "                sample = Transmuter(slot=i, main_stat='CRIT Rate%',affix1='CRIT DMG%', affix2='ATK')\n",
    "                sample.level_up_max()\n",
    "                total_exp += sample.exp\n",
    "                if sample.crit_value() >= 30:\n",
    "                    break\n",
    "            else:\n",
    "                # Look for 2 crit substats\n",
    "                x = {'CRIT Rate%':crit_rate}\n",
    "                y = {'CRIT DMG%':crit_dmg}\n",
    "                sample = Transmuter(slot=i, main_stat=main_stats[i], affix1='CRIT DMG%', affix2='CRIT Rate%')\n",
    "                if len(sample.sub_stats) == 3:\n",
    "                    sample.level_up()\n",
    "                if not all(stat in list(sample.sub_stats) for stat in ['CRIT Rate%','CRIT DMG%']):\n",
    "                    total_exp += sample.exp\n",
    "                    continue\n",
    "                sample.level_up_max()\n",
    "                total_exp += sample.exp\n",
    "                if sample.crit_value() >= 30:\n",
    "                    break    \n",
    "        transmuter_results[i].append(total_exp)  \n",
    "\n",
    "\n"
   ]
  },
  {
   "cell_type": "code",
   "execution_count": 163,
   "metadata": {},
   "outputs": [
    {
     "name": "stdout",
     "output_type": "stream",
     "text": [
      "══════════════════════════════\n",
      "✦ Goblet (Lv. 20) (exp total: 270475)\n",
      "✦ Main: ATK%\n",
      "✦ Substats:\n",
      "  ▪ CRIT DMG%: 12.44 +1\n",
      "  ▪ CRIT Rate%: 13.22 +3\n",
      "  ▪ DEF%: 7.29 \n",
      "  ▪ EM: 23.31 \n",
      "══════════════════════════════\n",
      "══════════════════════════════\n",
      "✦ Goblet (Lv. 20) (exp total: 270475)\n",
      "✦ Main: ATK%\n",
      "✦ Substats:\n",
      "  ▪ CRIT DMG%: 11.66 +1\n",
      "  ▪ CRIT Rate%: 5.83 +1\n",
      "  ▪ HP: 776.75 +2\n",
      "  ▪ DEF: 39.35 +1\n",
      "══════════════════════════════\n"
     ]
    }
   ],
   "source": [
    "sample = Transmuter(slot=i, main_stat=main_stats[i], affix1='CRIT DMG%', affix2='CRIT Rate%')\n",
    "sample.level_up_max()\n",
    "print(sample)\n",
    "sample = Transmuter(slot=i, main_stat=main_stats[i], affix1='CRIT DMG%', affix2='CRIT Rate%')\n",
    "sample.level_up_max()\n",
    "print(sample)"
   ]
  },
  {
   "cell_type": "code",
   "execution_count": 173,
   "metadata": {},
   "outputs": [
    {
     "name": "stdout",
     "output_type": "stream",
     "text": [
      "Mean artifact exp cost for feather:  888825.225\n",
      "Mean artifact exp cost for flower:  892215.1\n",
      "Mean artifact exp cost for sands:  1406775.6\n",
      "Mean artifact exp cost for circlet:  341013405.7\n",
      "Mean artifact exp cost for goblet:  2546636.5\n"
     ]
    }
   ],
   "source": [
    "print('Mean artifact exp cost for feather: ', np.mean(transmuter_results['Feather']))\n",
    "print('Mean artifact exp cost for flower: ', np.mean(transmuter_results['Flower']))\n",
    "print('Mean artifact exp cost for sands: ', np.mean(transmuter_results['Sands']))\n",
    "print('Mean artifact exp cost for circlet: ', np.mean(transmuter_results['Circlet']))\n",
    "print('Mean artifact exp cost for goblet: ', np.mean(transmuter_results['Goblet']))"
   ]
  },
  {
   "cell_type": "code",
   "execution_count": 176,
   "metadata": {},
   "outputs": [
    {
     "name": "stdout",
     "output_type": "stream",
     "text": [
      "Unique values: [ 677975 1355950 2033925 2711900 3389875 4745825]\n"
     ]
    }
   ],
   "source": [
    "len(normal_results['Feather'])\n",
    "len(transmuter_results['Feather'])\n",
    "vals, counts = np.unique(transmuter_results['Feather'], return_counts=True)\n",
    "print(\"Unique values:\", vals)"
   ]
  },
  {
   "cell_type": "code",
   "execution_count": 177,
   "metadata": {},
   "outputs": [
    {
     "data": {
      "image/png": "[encoded data removed]",
      "text/plain": [
       "<Figure size 1200x500 with 2 Axes>"
      ]
     },
     "metadata": {},
     "output_type": "display_data"
    }
   ],
   "source": [
    "import numpy as np\n",
    "import matplotlib.pyplot as plt\n",
    "\n",
    "# Plot overlapping histograms\n",
    "fig, axes = plt.subplots(1, 2, figsize=(12, 5), sharey=True)\n",
    "# First plot: Normal\n",
    "sns.histplot(normal_results['Feather'], bins=40, ax=axes[0], color='blue', kde=True)\n",
    "axes[0].set_title('Normal Distribution')\n",
    "axes[0].set_xlabel('Score')\n",
    "axes[0].set_ylabel('Count')\n",
    "\n",
    "# Second plot: Transmuter\n",
    "sns.histplot(transmuter_results['Feather'], bins=40, ax=axes[1], color='red', kde=True)\n",
    "axes[1].set_title('Transmuter Distribution')\n",
    "axes[1].set_xlabel('Score')\n",
    "\n",
    "plt.tight_layout()\n",
    "plt.show()\n",
    "\n",
    "# Show plot\n",
    "plt.show()"
   ]
  },
  {
   "cell_type": "code",
   "execution_count": 178,
   "metadata": {},
   "outputs": [],
   "source": [
    "simulations = 5000000\n",
    "results = 0\n",
    "for _ in range(simulations):\n",
    "    a = Artifact()\n",
    "    if a.slot == 'Circlet' and a.main_stat == 'CRIT Rate%':\n",
    "        if len(a.sub_stats) == 3:\n",
    "            a.level_up()\n",
    "        if a.crit_value() > 0:\n",
    "            results += 1\n",
    "        continue\n",
    "\n",
    "    if a.slot == 'Circlet' and a.main_stat == 'CRIT DMG%':\n",
    "        if len(a.sub_stats) == 3:\n",
    "            a.level_up()\n",
    "        if a.crit_value() > 0:\n",
    "            results += 1\n",
    "        continue"
   ]
  },
  {
   "cell_type": "code",
   "execution_count": 183,
   "metadata": {},
   "outputs": [
    {
     "data": {
      "text/plain": [
       "49855"
      ]
     },
     "execution_count": 183,
     "metadata": {},
     "output_type": "execute_result"
    }
   ],
   "source": [
    "round((results/simulations), 2)\n",
    "results"
   ]
  },
  {
   "cell_type": "code",
   "execution_count": 186,
   "metadata": {},
   "outputs": [
    {
     "name": "stdout",
     "output_type": "stream",
     "text": [
      "Valid Circlet crit artifacts: 17621\n"
     ]
    }
   ],
   "source": [
    "import numpy as np\n",
    "\n",
    "STAT_HP = 2\n",
    "STAT_CRIT_RATE = 8\n",
    "STAT_CRIT_DMG = 9\n",
    "\n",
    "ROLL_VALUES = np.array([\n",
    "    [209.12, 239.00, 268.88, 298.75],  # HP\n",
    "    [4.08, 4.66, 5.25, 5.83],          # HP%\n",
    "    [16.20, 18.52, 20.83, 23.15],      # DEF\n",
    "    [5.10, 5.83, 6.56, 7.29],          # DEF%\n",
    "    [13.62, 15.56, 17.51, 19.45],      # ATK\n",
    "    [4.08, 4.66, 5.25, 5.83],          # ATK%\n",
    "    [4.53, 5.18, 5.83, 6.48],          # ER%\n",
    "    [16.32, 18.65, 20.98, 23.31],      # EM\n",
    "    [2.72, 3.11, 3.50, 3.89],          # CRIT Rate%\n",
    "    [5.44, 6.22, 6.99, 7.77],          # CRIT DMG%\n",
    "])\n",
    "\n",
    "STAT_WEIGHTS = np.array([6, 4, 6, 4, 6, 4, 4, 4, 3, 3])\n",
    "STAT_PROBS = STAT_WEIGHTS / STAT_WEIGHTS.sum()\n",
    "\n",
    "def simulate_artifact():\n",
    "    # Simulate slot: 0 = Circlet (only care about that)\n",
    "    is_circlet = np.random.rand() < 0.2\n",
    "    if not is_circlet:\n",
    "        return 0\n",
    "\n",
    "    # Simulate Circlet main stat\n",
    "    circlet_probs = np.array([0.22, 0.22, 0.22, 0.10, 0.10, 0.10, 0.04])\n",
    "    circlet_main_choices = [1, 5, 3, 8, 9, -1, 7]\n",
    "    main_stat = np.random.choice(circlet_main_choices, p=circlet_probs)\n",
    "    if main_stat not in (STAT_CRIT_RATE, STAT_CRIT_DMG):\n",
    "        return 0\n",
    "\n",
    "    # Simulate number of substats (3 or 4)\n",
    "    substat_count = 3 if np.random.rand() < 0.8 else 4\n",
    "\n",
    "    # Choose substats (excluding main stat)\n",
    "    stat_pool = np.setdiff1d(np.arange(10), [main_stat])\n",
    "    substats = np.random.choice(stat_pool, size=substat_count, replace=False, p=STAT_PROBS[stat_pool] / STAT_PROBS[stat_pool].sum())\n",
    "\n",
    "    # Create substat value array\n",
    "    values = np.zeros(10)\n",
    "    for stat in substats:\n",
    "        values[stat] += np.random.choice(ROLL_VALUES[stat])\n",
    "\n",
    "    # Add one upgrade if started with 3 substats\n",
    "    if substat_count == 3:\n",
    "        upgrade_stat = np.random.choice(substats)\n",
    "        values[upgrade_stat] += np.random.choice(ROLL_VALUES[upgrade_stat])\n",
    "\n",
    "    # Check if HP% is among substats\n",
    "    has_hp_percent = STAT_HP in substats\n",
    "\n",
    "    # Compute crit value\n",
    "    crit_value = values[STAT_CRIT_RATE] * 2 + values[STAT_CRIT_DMG]\n",
    "\n",
    "    return int(crit_value > 0 and has_hp_percent)\n",
    "\n",
    "def run_simulation(n):\n",
    "    return sum(simulate_artifact() for _ in range(n))\n",
    "\n",
    "results = run_simulation(5_000_000)\n",
    "print(\"Valid Circlet crit artifacts:\", results)"
   ]
  },
  {
   "cell_type": "code",
   "execution_count": 187,
   "metadata": {},
   "outputs": [
    {
     "data": {
      "text/plain": [
       "0.009971"
      ]
     },
     "execution_count": 187,
     "metadata": {},
     "output_type": "execute_result"
    }
   ],
   "source": [
    "49855/5000000"
   ]
  },
  {
   "cell_type": "code",
   "execution_count": null,
   "metadata": {},
   "outputs": [],
   "source": []
  },
  {
   "attachments": {},
   "cell_type": "markdown",
   "metadata": {},
   "source": [
    "| Base Piece | Main Stat          | Double Crit | Drops / Run | Chance / Run | Avg Runs | Resin Value | Days  | Days (+Mora) | Elixers | Resin/Elixer |\n",
    "|------------|--------------------|-------------|--------------|---------------|-----------|--------------|-------|----------------|----------|----------------|\n",
    "| Flower     | Flat HP            | 9.2%        | 1.065        | 0.980%        | 102       | 2,041        | 10.8  | 13.5           | 1        | 2,041          |\n",
    "| Feather    | Flat ATK           | 9.2%        | 1.065        | 0.980%        | 102       | 2,041        | 10.8  | 13.5           | 1        | 2,041          |\n",
    "| Timepiece  | HP%                | 8.3%        | 1.065        | 0.236%        | 424       | 8,480        | 45.0  | 56.0           | 2        | 4,240          |\n",
    "| Timepiece  | ATK%               | 8.3%        | 1.065        | 0.236%        | 424       | 8,487        | 45.0  | 56.1           | 2        | 4,243          |\n",
    "| Timepiece  | DEF%               | 8.3%        | 1.065        | 0.236%        | 424       | 8,487        | 45.0  | 56.1           | 2        | 4,243          |\n",
    "| Timepiece  | Energy Recharge    | 8.3%        | 1.065        | 0.088%        | 1,131     | 22,626       | 120.0 | 149.5          | 2        | 11,313         |\n",
    "| Timepiece  | Elemental Mastery  | 8.3%        | 1.065        | 0.088%        | 1,131     | 22,626       | 120.0 | 149.5          | 2        | 11,313         |\n",
    "| Goblet     | HP%                | 8.3%        | 1.065        | 0.170%        | 588       | 11,754       | 62.3  | 77.7           | 4        | 2,938          |\n",
    "| Goblet     | ATK%               | 8.3%        | 1.065        | 0.170%        | 588       | 11,754       | 62.3  | 77.7           | 4        | 2,938          |\n",
    "| Goblet     | DEF%               | 8.3%        | 1.065        | 0.168%        | 595       | 11,908       | 63.1  | 78.7           | 4        | 2,977          |\n",
    "| Goblet     | Pyro DMG           | 6.7%        | 1.065        | 0.036%        | 2,803     | 56,058       | 297.3 | 370.4          | 4        | 14,014         |\n",
    "| Goblet     | Electro DMG        | 6.7%        | 1.065        | 0.036%        | 2,803     | 56,058       | 297.3 | 370.4          | 4        | 14,014         |\n",
    "| Goblet     | Cryo DMG           | 6.7%        | 1.065        | 0.036%        | 2,803     | 56,058       | 297.3 | 370.4          | 4        | 14,014         |\n",
    "| Goblet     | Hydro DMG          | 6.7%        | 1.065        | 0.036%        | 2,803     | 56,058       | 297.3 | 370.4          | 4        | 14,014         |\n",
    "| Goblet     | Anemo DMG          | 6.7%        | 1.065        | 0.036%        | 2,803     | 56,058       | 297.3 | 370.4          | 4        | 14,014         |\n",
    "| Goblet     | Geo DMG            | 6.7%        | 1.065        | 0.036%        | 2,803     | 56,058       | 297.3 | 370.4          | 4        | 14,014         |\n",
    "| Goblet     | Physical DMG       | 6.7%        | 1.065        | 0.036%        | 2,803     | 56,058       | 297.3 | 370.4          | 4        | 14,014         |\n",
    "| Goblet     | Elemental Mastery  | 8.3%        | 1.065        | 0.022%        | 4,525     | 90,503       | 479.9 | 598.1          | 4        | 22,626         |\n",
    "| Circlet    | HP%                | 8.3%        | 1.065        | 0.194%        | 514       | 10,284       | 54.5  | 68.0           | 3        | 3,428          |\n",
    "| Circlet    | ATK%               | 8.3%        | 1.065        | 0.194%        | 514       | 10,284       | 54.5  | 68.0           | 3        | 3,428          |\n",
    "| Circlet    | DEF%               | 8.3%        | 1.065        | 0.194%        | 514       | 10,284       | 54.5  | 68.0           | 3        | 3,428          |\n",
    "| Circlet    | CRIT Rate          | 32.0%       | 1.065        | 0.341%        | 293       | 5,869        | 31.1  | 38.8           | 3        | 1,956          |\n",
    "| Circlet    | CRIT DMG           | 32.0%       | 1.065        | 0.341%        | 293       | 5,869        | 31.1  | 38.8           | 3        | 1,956          |\n",
    "| Circlet    | Healing Bonus      | 8.3%        | 1.065        | 0.071%        | 1,401     | 28,029       | 148.6 | 185.2          | 3        | 9,343          |\n",
    "| Circlet    | Elemental Mastery  | 8.3%        | 1.065        | 0.035%        | 2,828     | 56,564       | 300.0 | 373.8          | 3        | 18,855         |"
   ]
  }
 ],
 "metadata": {
  "kernelspec": {
   "display_name": "Python 3",
   "language": "python",
   "name": "python3"
  },
  "language_info": {
   "codemirror_mode": {
    "name": "ipython",
    "version": 3
   },
   "file_extension": ".py",
   "mimetype": "text/x-python",
   "name": "python",
   "nbconvert_exporter": "python",
   "pygments_lexer": "ipython3",
   "version": "3.11.5"
  },
  "orig_nbformat": 4
 },
 "nbformat": 4,
 "nbformat_minor": 2
}
