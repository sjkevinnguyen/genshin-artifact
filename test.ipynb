{
 "cells": [
  {
   "cell_type": "code",
   "execution_count": 5,
   "metadata": {},
   "outputs": [
    {
     "name": "stdout",
     "output_type": "stream",
     "text": [
      "══════════════════════════════\n",
      "✦ Goblet (Lv. 0) (exp total: 0)\n",
      "✦ Main: PyroDMG%\n",
      "✦ Substats:\n",
      "  ▪ ATK: 15.56 \n",
      "  ▪ DEF: 20.83 \n",
      "  ▪ HP%: 5.25 \n",
      "══════════════════════════════\n",
      "══════════════════════════════\n",
      "✦ Goblet (Lv. 4) (exp total: 0)\n",
      "✦ Main: PyroDMG%\n",
      "✦ Substats:\n",
      "  ▪ ATK: 15.56 \n",
      "  ▪ DEF: 20.83 \n",
      "  ▪ HP%: 5.25 \n",
      "  ▪ DEF%: 6.56 \n",
      "══════════════════════════════\n",
      "══════════════════════════════\n",
      "✦ Goblet (Lv. 8) (exp total: (44, 725))\n",
      "✦ Main: PyroDMG%\n",
      "✦ Substats:\n",
      "  ▪ ATK: 15.56 \n",
      "  ▪ DEF: 20.83 \n",
      "  ▪ HP%: 11.08 +1\n",
      "  ▪ DEF%: 6.56 \n",
      "══════════════════════════════\n",
      "══════════════════════════════\n",
      "✦ Goblet (Lv. 12) (exp total: (87, 150))\n",
      "✦ Main: PyroDMG%\n",
      "✦ Substats:\n",
      "  ▪ ATK: 15.56 \n",
      "  ▪ DEF: 20.83 \n",
      "  ▪ HP%: 11.08 +1\n",
      "  ▪ DEF%: 13.85 +1\n",
      "══════════════════════════════\n",
      "══════════════════════════════\n",
      "✦ Goblet (Lv. 16) (exp total: (153, 300))\n",
      "✦ Main: PyroDMG%\n",
      "✦ Substats:\n",
      "  ▪ ATK: 15.56 \n",
      "  ▪ DEF: 41.66 +1\n",
      "  ▪ HP%: 11.08 +1\n",
      "  ▪ DEF%: 13.85 +1\n",
      "══════════════════════════════\n",
      "══════════════════════════════\n",
      "✦ Goblet (Lv. 20) (exp total: (270, 475))\n",
      "✦ Main: PyroDMG%\n",
      "✦ Substats:\n",
      "  ▪ ATK: 15.56 \n",
      "  ▪ DEF: 57.86 +2\n",
      "  ▪ HP%: 11.08 +1\n",
      "  ▪ DEF%: 13.85 +1\n",
      "══════════════════════════════\n"
     ]
    }
   ],
   "source": [
    "from Artifact import Artifact, Transmuter\n",
    "import numpy as np\n",
    "a = Artifact(slot='Goblet', main_stat='PyroDMG%')\n",
    "print(a)\n",
    "a.level_up()\n",
    "print(a)\n",
    "a.level_up()\n",
    "print(a)\n",
    "a.level_up()\n",
    "print(a)\n",
    "a.level_up()\n",
    "print(a)\n",
    "a.level_up()\n",
    "print(a)"
   ]
  },
  {
   "cell_type": "code",
   "execution_count": 30,
   "metadata": {},
   "outputs": [
    {
     "name": "stdout",
     "output_type": "stream",
     "text": [
      "yes\n"
     ]
    }
   ],
   "source": [
    "if any(stat in list(a.sub_stats) for stat in ['CRIT Rate%','CRIT DMG%']):\n",
    "    print('yes')"
   ]
  },
  {
   "cell_type": "code",
   "execution_count": 17,
   "metadata": {},
   "outputs": [
    {
     "data": {
      "text/plain": [
       "True"
      ]
     },
     "execution_count": 17,
     "metadata": {},
     "output_type": "execute_result"
    }
   ],
   "source": [
    "len(a.sub_stats) > 3"
   ]
  },
  {
   "cell_type": "code",
   "execution_count": 1,
   "metadata": {},
   "outputs": [],
   "source": [
    "# Necessary Imports\n",
    "from Artifact import Artifact, Transmuter\n",
    "import numpy as np\n",
    "import seaborn as sns\n",
    "import matplotlib.pyplot as plt"
   ]
  },
  {
   "cell_type": "code",
   "execution_count": 38,
   "metadata": {},
   "outputs": [
    {
     "name": "stdout",
     "output_type": "stream",
     "text": [
      "══════════════════════════════\n",
      "✦ Feather (Lv. 0) (exp total: 0)\n",
      "✦ Main: HP\n",
      "✦ Substats:\n",
      "  ▪ CRIT Rate%: 3.5 \n",
      "  ▪ EM: 23.31 \n",
      "  ▪ DEF%: 7.29 \n",
      "══════════════════════════════\n"
     ]
    }
   ],
   "source": [
    "# Generate normal artifacts\n",
    "sanctifying_cost = {'Feather':1}#'Flower':1, 'Sands':2, 'Circlet':3, 'Goblet':4}\n",
    "main_stats = {'Feather': 'ATK', 'Flower': 'HP', 'Sands':'ATK%', 'Circlet':'CRIT Rate%', 'Goblet':'Pyro DMG%'}\n",
    "crit = {'CRIT Rate%':[2.72, 3.11, 3.50, 3.89], 'CRIT DMG%':[5.44, 6.22, 6.99, 7.77]}\n",
    "simulations = 1\n",
    "normal_results = {'Feather':[], 'Flower':[], 'Sands':[], 'Circlet':[], 'Goblet':[]}\n",
    "transmuter_results = {'Feather':0, 'Flower':0, 'Sands':0, 'Circlet':0, 'Goblet':0}\n",
    "\n",
    "\n",
    "for _ in range(simulations):\n",
    "    for i in list(sanctifying_cost):\n",
    "\n",
    "        # Generate artifacts until a 30 cv artifact has been reached.\n",
    "        # Get the total exp used to get to that 30 cv artifact\n",
    "        total_exp = 0\n",
    "        while True:\n",
    "            crit_rate = np.random.choice(crit['CRIT Rate%'])\n",
    "            crit_dmg = np.random.choice(crit['CRIT DMG%'])\n",
    "            if i == 'Circlet':\n",
    "                sample = Artifact(slot=i, main_stat='CRIT Rate%')\n",
    "                print(sample)\n",
    "                if len(sample.sub_stats) == 3:\n",
    "                    sample.level_up()\n",
    "                if not 'CRIT DMG%' in sample.sub_stats:\n",
    "                    total_exp += sample.exp\n",
    "                    continue\n",
    "                sample.level_up_max()\n",
    "                total_exp += sample.exp\n",
    "                if sample.crit_value() >= 30:\n",
    "                    break    \n",
    "            else:\n",
    "                x = {'CRIT Rate%':crit_rate}\n",
    "                y = {'CRIT DMG%':crit_dmg}\n",
    "                sample = Artifact(slot=i, main_stat=main_stats[i], sub_stats=np.random.choice([x, y]))\n",
    "                print(sample)\n",
    "                if len(sample.sub_stats) == 3:\n",
    "                    sample.level_up()\n",
    "                if not all(stat in list(sample.sub_stats) for stat in ['CRIT Rate%','CRIT DMG%']):\n",
    "                    total_exp += sample.exp\n",
    "                    continue\n",
    "                sample.level_up_max()\n",
    "                total_exp += sample.exp\n",
    "                if sample.crit_value() >= 30:\n",
    "                    break    \n",
    "        normal_results[i].append(total_exp) \n",
    "\n",
    "        "
   ]
  },
  {
   "cell_type": "code",
   "execution_count": 39,
   "metadata": {},
   "outputs": [
    {
     "data": {
      "text/plain": [
       "{'Feather': [0], 'Flower': [], 'Sands': [], 'Circlet': [], 'Goblet': []}"
      ]
     },
     "execution_count": 39,
     "metadata": {},
     "output_type": "execute_result"
    }
   ],
   "source": [
    "normal_results"
   ]
  },
  {
   "cell_type": "code",
   "execution_count": 32,
   "metadata": {},
   "outputs": [],
   "source": [
    "sanctifying_cost = {'Feather':1}#'Flower':1, 'Sands':2, 'Circlet':3, 'Goblet':4}\n",
    "main_stats = {'Feather': 'ATK', 'Flower': 'HP', 'Sands':'ATK%', 'Circlet':'CRIT Rate%', 'Goblet':'Pyro DMG%'}\n",
    "simulations = 10\n",
    "crit = {'CRIT Rate%':[2.72, 3.11, 3.50, 3.89], 'CRIT DMG%':[5.44, 6.22, 6.99, 7.77]}\n",
    "\n",
    "results = []\n",
    "\n",
    "for _ in range(simulations):\n",
    "    for i in list(sanctifying_cost):\n",
    "        one_roll = {}\n",
    "        a_total_exp = 0\n",
    "        b_total_exp = 0\n",
    "\n",
    "        while True:\n",
    "            \n",
    "            crit_rate = np.random.choice(crit['CRIT Rate%'])\n",
    "            crit_dmg = np.random.choice(crit['CRIT DMG%'])\n",
    "\n",
    "            # Create normal Artifact\n",
    "\n",
    "            # If circlet: if it has 3 stats, roll the forth in hopes of crit dmg; if it has 4 non crit values, trash it\n",
    "            if i == 'Circlet':\n",
    "                a = Artifact(slot=i, main_stat=main_stats[i])\n",
    "                if len(a.sub_stats) == 3:\n",
    "                    a.level_up()\n",
    "                    a_total_exp = a.exp\n",
    "\n",
    "                if len(a.sub_stats) == 4 and not 'CRIT DMG%' in a.sub_stats:\n",
    "                    break\n",
    "                    \n",
    "                if a.crit_value() != 0:\n",
    "                    a.level_up_max()\n",
    "                    a_total_exp += a.exp\n",
    "                    if a.crit_value >= 30:\n",
    "                        break\n",
    "                a_total_exp += exp\n",
    "            else:\n",
    "                x = {'CRIT Rate%':crit_rate}\n",
    "                y = {'CRIT DMG%':crit_dmg}\n",
    "                a = Artifact(slot=i, main_stat=main_stats[i], sub_stats=np.random.choice([x, y]))\n",
    "                                 \n",
    "                if len(a.sub_stats) == 3:\n",
    "                    a.level_up()\n",
    "                    a_total_exp += a.exp\n",
    "\n",
    "                if len(a.sub_stats) == 4 and not all(stat in list(a.sub_stats) for stat in ['CRIT Rate%','CRIT DMG%']):\n",
    "                    break\n",
    "                    \n",
    "                if a.crit_value() != 0:\n",
    "                    a.level_up_max()\n",
    "                    a_total_exp += a.exp\n",
    "                    if a.crit_value() >= 30:\n",
    "                        break\n",
    "                if len(a.sub_stats) == 3:\n",
    "                    a.level_up()\n",
    "\n",
    "                if len(a.sub_stats) == 4 and not 'CRIT DMG%' in a.sub_stats:\n",
    "                    break\n",
    "                    \n",
    "                if a.crit_value() != 0:\n",
    "                    a.level_up_max()\n",
    "                    a_total_exp += a.exp\n",
    "                    if a.crit_value() >= 30:\n",
    "                        break\n",
    "                a_total_exp += a.exp\n",
    "            \n",
    "            # Creating transmuter Artifact\n",
    "            if i == 'Circlet':\n",
    "                b = Transmuter(slot=i, main_stat=main_stats[i], affix1='CRIT DMG%', affix2='ATK%')\n",
    "                if len(b.sub_stats) == 3:\n",
    "                    b.level_up()\n",
    "\n",
    "                if len(b.sub_stats) == 4 and not 'CRIT DMG%' in b.sub_stats:\n",
    "                    break\n",
    "                    \n",
    "                if b.crit_value() != 0:\n",
    "                    b.level_up_max()\n",
    "                    b_total_exp += b.total_exp()\n",
    "                    if b.crit_value() >= 30:\n",
    "                        break\n",
    "                b_total_exp += b.exp\n",
    "            \n",
    "            else:\n",
    "                b = Transmuter(slot=i, main_stat=main_stats[i], affix1='CRIT DMG%', affix2='CRIT Rate%')\n",
    "                b.level_up_max()\n",
    "                b_total_exp += b.exp\n",
    "                if a.crit_value() >= 30:\n",
    "                    break\n",
    "                b_total_exp += b.exp\n",
    "        \n",
    "        if not len(one_roll):\n",
    "            one_roll[i] = [0, 0]\n",
    "        else:\n",
    "            one_roll[i] += [a_total_exp, b_total_exp]\n",
    "    results.append(one_roll)\n",
    "   \n",
    "    \n",
    "\n"
   ]
  },
  {
   "cell_type": "code",
   "execution_count": 34,
   "metadata": {},
   "outputs": [
    {
     "data": {
      "text/plain": [
       "{'a': [1, 2]}"
      ]
     },
     "execution_count": 34,
     "metadata": {},
     "output_type": "execute_result"
    }
   ],
   "source": [
    "a = {'a': [1]}\n",
    "a['a'].append(2)\n",
    "a"
   ]
  }
 ],
 "metadata": {
  "kernelspec": {
   "display_name": "Python 3",
   "language": "python",
   "name": "python3"
  },
  "language_info": {
   "codemirror_mode": {
    "name": "ipython",
    "version": 3
   },
   "file_extension": ".py",
   "mimetype": "text/x-python",
   "name": "python",
   "nbconvert_exporter": "python",
   "pygments_lexer": "ipython3",
   "version": "3.11.5"
  },
  "orig_nbformat": 4
 },
 "nbformat": 4,
 "nbformat_minor": 2
}
