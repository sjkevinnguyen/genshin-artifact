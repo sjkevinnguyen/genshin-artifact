{
 "cells": [
  {
   "cell_type": "code",
   "execution_count": 8,
   "metadata": {},
   "outputs": [
    {
     "name": "stdout",
     "output_type": "stream",
     "text": [
      "══════════════════════════════\n",
      "✦ Goblet (Lv. 0) (exp total: 0)\n",
      "✦ Main: PyroDMG%\n",
      "✦ Substats:\n",
      "  ▪ CRIT Rate%: 2.72 \n",
      "  ▪ CRIT DMG%: 7.77 \n",
      "  ▪ HP: 209.12 \n",
      "  ▪ DEF: 18.52 \n",
      "══════════════════════════════\n",
      "══════════════════════════════\n",
      "✦ Goblet (Lv. 20) (exp total: (270, 475))\n",
      "✦ Main: PyroDMG%\n",
      "✦ Substats:\n",
      "  ▪ CRIT Rate%: 5.83 +1\n",
      "  ▪ CRIT DMG%: 21.76 +2\n",
      "  ▪ HP: 448.12 +1\n",
      "  ▪ DEF: 37.04 +1\n",
      "══════════════════════════════\n"
     ]
    }
   ],
   "source": [
    "from Artifact import Artifact, Transmuter\n",
    "import numpy as np\n",
    "a = Transmuter(slot='Goblet', main_stat='PyroDMG%', affix1='CRIT Rate%', affix2='CRIT DMG%')\n",
    "print(a)\n",
    "a.level_up_max()\n",
    "print(a)"
   ]
  },
  {
   "cell_type": "code",
   "execution_count": 4,
   "metadata": {},
   "outputs": [
    {
     "data": {
      "text/plain": [
       "19.44"
      ]
     },
     "execution_count": 4,
     "metadata": {},
     "output_type": "execute_result"
    }
   ],
   "source": [
    "a.crit_value()"
   ]
  },
  {
   "cell_type": "code",
   "execution_count": 85,
   "metadata": {},
   "outputs": [
    {
     "data": {
      "text/plain": [
       "'hello'"
      ]
     },
     "execution_count": 85,
     "metadata": {},
     "output_type": "execute_result"
    }
   ],
   "source": [
    "np.random.choice(['hello'])"
   ]
  }
 ],
 "metadata": {
  "kernelspec": {
   "display_name": "Python 3",
   "language": "python",
   "name": "python3"
  },
  "language_info": {
   "codemirror_mode": {
    "name": "ipython",
    "version": 3
   },
   "file_extension": ".py",
   "mimetype": "text/x-python",
   "name": "python",
   "nbconvert_exporter": "python",
   "pygments_lexer": "ipython3",
   "version": "3.11.5"
  },
  "orig_nbformat": 4
 },
 "nbformat": 4,
 "nbformat_minor": 2
}
